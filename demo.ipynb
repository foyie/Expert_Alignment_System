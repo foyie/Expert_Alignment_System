{
 "cells": [
  {
   "cell_type": "code",
   "execution_count": 3,
   "metadata": {},
   "outputs": [],
   "source": [
    "import sys, os\n",
    "sys.path.append(os.path.abspath(\"..\"))\n"
   ]
  },
  {
   "cell_type": "code",
   "execution_count": 11,
   "metadata": {},
   "outputs": [],
   "source": [
    "from src.matching_system import ProjectMatcher\n",
    "from src.utils import load_briefs, load_experts"
   ]
  },
  {
   "cell_type": "code",
   "execution_count": 12,
   "metadata": {},
   "outputs": [],
   "source": [
    "matcher = ProjectMatcher()\n",
    "briefs = load_briefs(\"/Users/chandrimadas/Documents/Mocc2/data/briefs.json\")\n",
    "experts = load_experts(\"/Users/chandrimadas/Documents/Mocc2/data/experts.json\")"
   ]
  },
  {
   "cell_type": "code",
   "execution_count": 8,
   "metadata": {},
   "outputs": [],
   "source": [
    "# Test with medical brief\n",
    "medical_project = [b for b in briefs if b.domain == \"Healthcare\"][0]"
   ]
  },
  {
   "cell_type": "code",
   "execution_count": 9,
   "metadata": {},
   "outputs": [
    {
     "data": {
      "text/plain": [
       "ProjectBrief(title='Medical Chatbot Development', description='Build a HIPAA-compliant chatbot for patient triage with multilingual support and symptom analysis using NLP.', required_skills=['NLP', 'Healthcare', 'Security', 'Python'], domain='Healthcare')"
      ]
     },
     "execution_count": 9,
     "metadata": {},
     "output_type": "execute_result"
    }
   ],
   "source": [
    "medical_project"
   ]
  },
  {
   "cell_type": "code",
   "execution_count": 13,
   "metadata": {},
   "outputs": [],
   "source": [
    "\n",
    "matches = matcher.find_matches(medical_project)  # Now passing 'brief' correctly"
   ]
  },
  {
   "cell_type": "code",
   "execution_count": 14,
   "metadata": {},
   "outputs": [
    {
     "data": {
      "text/plain": [
       "'1. Expert A (Python, NLP, Machine Learning, Health Informatics): This expert has extensive experience in Natural Language Processing and Machine Learning, which are crucial skills for developing a chatbot. Moreover, their background in Health Informatics indicates a strong understanding of the healthcare domain, making them an ideal candidate for this project.\\n\\n  2. Expert B (Python, NLP, Security, Health IT): This expert possesses all the required skills for the project, including Python programming, Natural Language Processing, Security, and has experience in Health Information Technology. Their expertise in Security is particularly relevant for ensuring that the chatbot is HIPAA-compliant.\\n\\n  3. Expert C (Python, Multilingual NLP, AI, Healthcare): This expert specializes in Multilingual Natural Language Processing and Artificial Intelligence, which are essential skills for creating a chatbot with multilingual support. Furthermore, their background in healthcare domain knowledge will be valuable in understanding the specific needs of this project.\\n\\n  4. Expert D (Python, NLP, HIPAA Compliance, Health IT): This expert has experience with Python programming and Natural Language Processing as well as a strong understanding of HIPAA compliance and Health Information Technology. Although they do not have extensive experience in multilingual support or symptom analysis using NLP, their expertise in ensuring the chatbot is HIPAA-compliant makes them a valuable addition to the project team.'"
      ]
     },
     "execution_count": 14,
     "metadata": {},
     "output_type": "execute_result"
    }
   ],
   "source": [
    "matches"
   ]
  },
  {
   "cell_type": "code",
   "execution_count": 31,
   "metadata": {},
   "outputs": [
    {
     "name": "stdout",
     "output_type": "stream",
     "text": [
      "<class 'src.models.ProjectBrief'>\n"
     ]
    }
   ],
   "source": [
    "print(type(medical_project))  # Should show <class 'ProjectBrief'>"
   ]
  },
  {
   "cell_type": "code",
   "execution_count": 15,
   "metadata": {},
   "outputs": [
    {
     "name": "stdout",
     "output_type": "stream",
     "text": [
      "Expert count: 0\n"
     ]
    }
   ],
   "source": [
    "print(\"Expert count:\", matcher.collection.count())"
   ]
  },
  {
   "cell_type": "markdown",
   "metadata": {},
   "source": [
    "llama\n"
   ]
  },
  {
   "cell_type": "markdown",
   "metadata": {},
   "source": [
    "\n",
    "Checking"
   ]
  },
  {
   "cell_type": "code",
   "execution_count": 4,
   "metadata": {},
   "outputs": [
    {
     "name": "stdout",
     "output_type": "stream",
     "text": [
      "✅ Data loading successful\n",
      "Loaded 3 project briefs and 5 experts\n"
     ]
    }
   ],
   "source": [
    "# Verification Script\n",
    "from src.models import ProjectBrief, Expert\n",
    "from src.utils import load_briefs, load_experts\n",
    "\n",
    "# 1. Test Data Loading\n",
    "try:\n",
    "    briefs = load_briefs(\"data/briefs.json\")\n",
    "    experts = load_experts(\"data/experts.json\")\n",
    "    print(\"✅ Data loading successful\")\n",
    "    print(f\"Loaded {len(briefs)} project briefs and {len(experts)} experts\")\n",
    "except Exception as e:\n",
    "    print(\"❌ Data loading failed:\", e)"
   ]
  },
  {
   "cell_type": "code",
   "execution_count": 5,
   "metadata": {},
   "outputs": [
    {
     "name": "stdout",
     "output_type": "stream",
     "text": [
      "✅ ChromaDB connection established\n",
      "Collection contains 0 items\n"
     ]
    }
   ],
   "source": [
    "# 2. Verify ChromaDB Connection\n",
    "try:\n",
    "    matcher = ProjectMatcher()\n",
    "    print(\"✅ ChromaDB connection established\")\n",
    "    print(f\"Collection contains {matcher.collection.count()} items\")\n",
    "except Exception as e:\n",
    "    print(\"❌ ChromaDB connection failed:\", e)"
   ]
  },
  {
   "cell_type": "code",
   "execution_count": 11,
   "metadata": {},
   "outputs": [
    {
     "name": "stdout",
     "output_type": "stream",
     "text": [
      "✅ LLM connection working\n",
      "LLM response: 2\n"
     ]
    }
   ],
   "source": [
    "# Revised LLM connection test\n",
    "try:\n",
    "    test_prompt = \"What is 1 + 1? Answer only with the number.\"\n",
    "    response = matcher.llm.invoke(test_prompt)\n",
    "    \n",
    "    print(\"✅ LLM connection working\")\n",
    "    \n",
    "    # Handle different response types\n",
    "    if hasattr(response, 'content'):\n",
    "        print(f\"LLM response: {response.content}\")\n",
    "    elif isinstance(response, str):\n",
    "        print(f\"LLM response: {response}\")\n",
    "    else:\n",
    "        print(f\"Unexpected response type: {type(response)}\")\n",
    "        \n",
    "except Exception as e:\n",
    "    print(\"❌ LLM connection failed:\", str(e))"
   ]
  },
  {
   "cell_type": "code",
   "execution_count": 16,
   "metadata": {},
   "outputs": [
    {
     "name": "stdout",
     "output_type": "stream",
     "text": [
      "\n",
      "✅ Matching system operational\n",
      "Top matches for 'Medical Chatbot Development':\n",
      "❌ Matching failed: 'str' object has no attribute 'name'\n"
     ]
    }
   ],
   "source": [
    "\n",
    "# 4. Test Matching System\n",
    "if len(briefs) > 0 and len(experts) > 0:\n",
    "    test_brief = briefs[0]\n",
    "    try:\n",
    "        matches = matcher.find_matches(test_brief)\n",
    "        print(\"\\n✅ Matching system operational\")\n",
    "        print(f\"Top matches for '{test_brief.title}':\")\n",
    "        for idx, expert in enumerate(matches, 1):\n",
    "            print(f\"{idx}. {expert.name} - Skills: {', '.join(expert.skills)}\")\n",
    "    except Exception as e:\n",
    "        print(\"❌ Matching failed:\", e)\n",
    "else:\n",
    "    print(\"⚠️ No data to test matching system\")"
   ]
  }
 ],
 "metadata": {
  "kernelspec": {
   "display_name": "Python 3",
   "language": "python",
   "name": "python3"
  },
  "language_info": {
   "codemirror_mode": {
    "name": "ipython",
    "version": 3
   },
   "file_extension": ".py",
   "mimetype": "text/x-python",
   "name": "python",
   "nbconvert_exporter": "python",
   "pygments_lexer": "ipython3",
   "version": "3.13.1"
  }
 },
 "nbformat": 4,
 "nbformat_minor": 2
}
