{
 "cells": [
  {
   "cell_type": "code",
   "execution_count": 4,
   "metadata": {},
   "outputs": [
    {
     "ename": "SyntaxError",
     "evalue": "invalid syntax (1980063240.py, line 4)",
     "output_type": "error",
     "traceback": [
      "\u001b[0;36m  Cell \u001b[0;32mIn[4], line 4\u001b[0;36m\u001b[0m\n\u001b[0;31m    pip install -r requirements.txt\u001b[0m\n\u001b[0m        ^\u001b[0m\n\u001b[0;31mSyntaxError\u001b[0m\u001b[0;31m:\u001b[0m invalid syntax\n"
     ]
    }
   ],
   "source": [
    "# demo.ipynb\n",
    "%%bash\n",
    "# Install requirements (only run once)\n",
    "pip install -r requirements.txt\n",
    "ollama pull llama2"
   ]
  },
  {
   "cell_type": "code",
   "execution_count": 1,
   "metadata": {},
   "outputs": [
    {
     "name": "stdout",
     "output_type": "stream",
     "text": [
      "🔄 Initializing system...\n",
      "✅ System ready!\n"
     ]
    },
    {
     "name": "stderr",
     "output_type": "stream",
     "text": [
      "/Users/chandrimadas/Documents/Mocc2/src/matching_system.py:95: LangChainDeprecationWarning: The class `Ollama` was deprecated in LangChain 0.3.1 and will be removed in 1.0.0. An updated version of the class exists in the :class:`~langchain-ollama package and should be used instead. To use it run `pip install -U :class:`~langchain-ollama` and import as `from :class:`~langchain_ollama import OllamaLLM``.\n",
      "  self.llm = Ollama(\n"
     ]
    }
   ],
   "source": [
    "# Cell 1: Imports and Setup\n",
    "import json\n",
    "import pandas as pd\n",
    "from IPython.display import display, Markdown\n",
    "from src.utils import load_briefs, load_experts, initialize_chroma\n",
    "from src.matching_system import ProjectMatcher\n",
    "from src.chroma_setup import get_chroma_collection\n",
    "\n",
    "# Initialize system\n",
    "print(\"🔄 Initializing system...\")\n",
    "briefs = load_briefs(\"data/briefs.json\")\n",
    "experts = load_experts(\"data/experts.json\")\n",
    "initialize_chroma(experts)\n",
    "matcher = ProjectMatcher()\n",
    "print(\"✅ System ready!\")"
   ]
  },
  {
   "cell_type": "code",
   "execution_count": 2,
   "metadata": {},
   "outputs": [
    {
     "name": "stdout",
     "output_type": "stream",
     "text": [
      "\n",
      "📋 Sample Project Briefs:\n"
     ]
    },
    {
     "name": "stderr",
     "output_type": "stream",
     "text": [
      "/var/folders/y4/0lcmny8s1696ft7y4dphy7kr0000gn/T/ipykernel_31554/3896268613.py:4: PydanticDeprecatedSince20: The `dict` method is deprecated; use `model_dump` instead. Deprecated in Pydantic V2.0 to be removed in V3.0. See Pydantic V2 Migration Guide at https://errors.pydantic.dev/2.10/migration/\n",
      "  briefs_df = pd.DataFrame([b.dict() for b in briefs])\n"
     ]
    },
    {
     "data": {
      "text/html": [
       "<div>\n",
       "<style scoped>\n",
       "    .dataframe tbody tr th:only-of-type {\n",
       "        vertical-align: middle;\n",
       "    }\n",
       "\n",
       "    .dataframe tbody tr th {\n",
       "        vertical-align: top;\n",
       "    }\n",
       "\n",
       "    .dataframe thead th {\n",
       "        text-align: right;\n",
       "    }\n",
       "</style>\n",
       "<table border=\"1\" class=\"dataframe\">\n",
       "  <thead>\n",
       "    <tr style=\"text-align: right;\">\n",
       "      <th></th>\n",
       "      <th>title</th>\n",
       "      <th>description</th>\n",
       "      <th>required_skills</th>\n",
       "      <th>domain</th>\n",
       "    </tr>\n",
       "  </thead>\n",
       "  <tbody>\n",
       "    <tr>\n",
       "      <th>0</th>\n",
       "      <td>Medical Chatbot Development</td>\n",
       "      <td>Build a HIPAA-compliant chatbot for patient tr...</td>\n",
       "      <td>[NLP, Healthcare, Security, Python]</td>\n",
       "      <td>Healthcare</td>\n",
       "    </tr>\n",
       "    <tr>\n",
       "      <th>1</th>\n",
       "      <td>Retail Analytics System</td>\n",
       "      <td>Develop a computer vision-based people countin...</td>\n",
       "      <td>[Computer Vision, Data Visualization, Python]</td>\n",
       "      <td>Retail</td>\n",
       "    </tr>\n",
       "    <tr>\n",
       "      <th>2</th>\n",
       "      <td>Fraud Detection API</td>\n",
       "      <td>Create machine learning models for real-time f...</td>\n",
       "      <td>[Machine Learning, Anomaly Detection, Python]</td>\n",
       "      <td>Finance</td>\n",
       "    </tr>\n",
       "  </tbody>\n",
       "</table>\n",
       "</div>"
      ],
      "text/plain": [
       "                         title  \\\n",
       "0  Medical Chatbot Development   \n",
       "1      Retail Analytics System   \n",
       "2          Fraud Detection API   \n",
       "\n",
       "                                         description  \\\n",
       "0  Build a HIPAA-compliant chatbot for patient tr...   \n",
       "1  Develop a computer vision-based people countin...   \n",
       "2  Create machine learning models for real-time f...   \n",
       "\n",
       "                                 required_skills      domain  \n",
       "0            [NLP, Healthcare, Security, Python]  Healthcare  \n",
       "1  [Computer Vision, Data Visualization, Python]      Retail  \n",
       "2  [Machine Learning, Anomaly Detection, Python]     Finance  "
      ]
     },
     "metadata": {},
     "output_type": "display_data"
    },
    {
     "name": "stdout",
     "output_type": "stream",
     "text": [
      "\n",
      "👥 Expert Profiles:\n"
     ]
    },
    {
     "name": "stderr",
     "output_type": "stream",
     "text": [
      "/var/folders/y4/0lcmny8s1696ft7y4dphy7kr0000gn/T/ipykernel_31554/3896268613.py:8: PydanticDeprecatedSince20: The `dict` method is deprecated; use `model_dump` instead. Deprecated in Pydantic V2.0 to be removed in V3.0. See Pydantic V2 Migration Guide at https://errors.pydantic.dev/2.10/migration/\n",
      "  experts_df = pd.DataFrame([e.dict() for e in experts])\n"
     ]
    },
    {
     "data": {
      "text/html": [
       "<div>\n",
       "<style scoped>\n",
       "    .dataframe tbody tr th:only-of-type {\n",
       "        vertical-align: middle;\n",
       "    }\n",
       "\n",
       "    .dataframe tbody tr th {\n",
       "        vertical-align: top;\n",
       "    }\n",
       "\n",
       "    .dataframe thead th {\n",
       "        text-align: right;\n",
       "    }\n",
       "</style>\n",
       "<table border=\"1\" class=\"dataframe\">\n",
       "  <thead>\n",
       "    <tr style=\"text-align: right;\">\n",
       "      <th></th>\n",
       "      <th>name</th>\n",
       "      <th>type</th>\n",
       "      <th>skills</th>\n",
       "      <th>experience</th>\n",
       "      <th>expertise</th>\n",
       "    </tr>\n",
       "  </thead>\n",
       "  <tbody>\n",
       "    <tr>\n",
       "      <th>0</th>\n",
       "      <td>MedBot AI v4.1</td>\n",
       "      <td>AI</td>\n",
       "      <td>[NLP, Healthcare, Multilingual Processing]</td>\n",
       "      <td>3</td>\n",
       "      <td>[Medical Chatbots, Patient Triage]</td>\n",
       "    </tr>\n",
       "    <tr>\n",
       "      <th>1</th>\n",
       "      <td>Dr. Data Security</td>\n",
       "      <td>Human</td>\n",
       "      <td>[HIPAA Compliance, Cybersecurity, Python]</td>\n",
       "      <td>10</td>\n",
       "      <td>[Healthcare Security, Data Protection]</td>\n",
       "    </tr>\n",
       "    <tr>\n",
       "      <th>2</th>\n",
       "      <td>VisionCore AI v2.3</td>\n",
       "      <td>AI</td>\n",
       "      <td>[Computer Vision, People Counting, OpenCV]</td>\n",
       "      <td>2</td>\n",
       "      <td>[Retail Analytics, Real-time Systems]</td>\n",
       "    </tr>\n",
       "    <tr>\n",
       "      <th>3</th>\n",
       "      <td>FraudShield AI v1.7</td>\n",
       "      <td>AI</td>\n",
       "      <td>[Anomaly Detection, ML Models, Python]</td>\n",
       "      <td>1</td>\n",
       "      <td>[Financial Systems, Fraud Prevention]</td>\n",
       "    </tr>\n",
       "    <tr>\n",
       "      <th>4</th>\n",
       "      <td>General AI Assistant v5</td>\n",
       "      <td>AI</td>\n",
       "      <td>[Python, Basic NLP, Data Analysis]</td>\n",
       "      <td>4</td>\n",
       "      <td>[General Purpose]</td>\n",
       "    </tr>\n",
       "  </tbody>\n",
       "</table>\n",
       "</div>"
      ],
      "text/plain": [
       "                      name   type                                      skills  \\\n",
       "0           MedBot AI v4.1     AI  [NLP, Healthcare, Multilingual Processing]   \n",
       "1        Dr. Data Security  Human   [HIPAA Compliance, Cybersecurity, Python]   \n",
       "2       VisionCore AI v2.3     AI  [Computer Vision, People Counting, OpenCV]   \n",
       "3      FraudShield AI v1.7     AI      [Anomaly Detection, ML Models, Python]   \n",
       "4  General AI Assistant v5     AI          [Python, Basic NLP, Data Analysis]   \n",
       "\n",
       "   experience                               expertise  \n",
       "0           3      [Medical Chatbots, Patient Triage]  \n",
       "1          10  [Healthcare Security, Data Protection]  \n",
       "2           2   [Retail Analytics, Real-time Systems]  \n",
       "3           1   [Financial Systems, Fraud Prevention]  \n",
       "4           4                       [General Purpose]  "
      ]
     },
     "metadata": {},
     "output_type": "display_data"
    }
   ],
   "source": [
    "# Cell 2: Display Sample Data\n",
    "def show_sample_data():\n",
    "    print(\"\\n📋 Sample Project Briefs:\")\n",
    "    briefs_df = pd.DataFrame([b.dict() for b in briefs])\n",
    "    display(briefs_df)\n",
    "    \n",
    "    print(\"\\n👥 Expert Profiles:\")\n",
    "    experts_df = pd.DataFrame([e.dict() for e in experts])\n",
    "    display(experts_df)\n",
    "\n",
    "show_sample_data()"
   ]
  },
  {
   "cell_type": "code",
   "execution_count": 3,
   "metadata": {},
   "outputs": [
    {
     "data": {
      "text/markdown": [
       "## 🔍 Matching Results for: **Medical Chatbot Development**"
      ],
      "text/plain": [
       "<IPython.core.display.Markdown object>"
      ]
     },
     "metadata": {},
     "output_type": "display_data"
    },
    {
     "data": {
      "text/markdown": [
       "**Domain**: Healthcare"
      ],
      "text/plain": [
       "<IPython.core.display.Markdown object>"
      ]
     },
     "metadata": {},
     "output_type": "display_data"
    },
    {
     "data": {
      "text/markdown": [
       "**Required Skills**: NLP, Healthcare, Security, Python"
      ],
      "text/plain": [
       "<IPython.core.display.Markdown object>"
      ]
     },
     "metadata": {},
     "output_type": "display_data"
    },
    {
     "data": {
      "text/html": [
       "<div>\n",
       "<style scoped>\n",
       "    .dataframe tbody tr th:only-of-type {\n",
       "        vertical-align: middle;\n",
       "    }\n",
       "\n",
       "    .dataframe tbody tr th {\n",
       "        vertical-align: top;\n",
       "    }\n",
       "\n",
       "    .dataframe thead th {\n",
       "        text-align: right;\n",
       "    }\n",
       "</style>\n",
       "<table border=\"1\" class=\"dataframe\">\n",
       "  <thead>\n",
       "    <tr style=\"text-align: right;\">\n",
       "      <th></th>\n",
       "      <th>name</th>\n",
       "      <th>type</th>\n",
       "      <th>score</th>\n",
       "      <th>reason</th>\n",
       "    </tr>\n",
       "  </thead>\n",
       "  <tbody>\n",
       "    <tr>\n",
       "      <th>0</th>\n",
       "      <td>Candidate A</td>\n",
       "      <td>Unknown</td>\n",
       "      <td>8.0</td>\n",
       "      <td>Candidate A has strong NLP skills and some exp...</td>\n",
       "    </tr>\n",
       "  </tbody>\n",
       "</table>\n",
       "</div>"
      ],
      "text/plain": [
       "          name     type  score  \\\n",
       "0  Candidate A  Unknown    8.0   \n",
       "\n",
       "                                              reason  \n",
       "0  Candidate A has strong NLP skills and some exp...  "
      ]
     },
     "metadata": {},
     "output_type": "display_data"
    }
   ],
   "source": [
    "# Cell 3: Matching Demo\n",
    "def show_matches(brief, matches):\n",
    "    display(Markdown(f\"## 🔍 Matching Results for: **{brief.title}**\"))\n",
    "    display(Markdown(f\"**Domain**: {brief.domain}\"))\n",
    "    display(Markdown(f\"**Required Skills**: {', '.join(brief.required_skills)}\"))\n",
    "    \n",
    "    results_df = pd.DataFrame(matches)[[\"name\", \"type\", \"score\", \"reason\"]]\n",
    "    results_df[\"score\"] = results_df[\"score\"].round(2)\n",
    "    display(results_df)\n",
    "\n",
    "# Select a project brief\n",
    "sample_brief = briefs[0]  # Medical Chatbot Development\n",
    "\n",
    "# Find matches\n",
    "matches = matcher.find_matches(sample_brief)\n",
    "\n",
    "# Display results\n",
    "show_matches(sample_brief, matches)"
   ]
  },
  {
   "cell_type": "code",
   "execution_count": 4,
   "metadata": {},
   "outputs": [
    {
     "name": "stdout",
     "output_type": "stream",
     "text": [
      "📊 Visualizing Embedding Space...\n"
     ]
    },
    {
     "data": {
      "image/png": "[encoded data removed]",
      "text/plain": [
       "<Figure size 1000x600 with 1 Axes>"
      ]
     },
     "metadata": {},
     "output_type": "display_data"
    }
   ],
   "source": [
    "# Cell 4: Embedding Visualization\n",
    "import matplotlib.pyplot as plt\n",
    "from sklearn.decomposition import PCA\n",
    "\n",
    "def plot_embeddings():\n",
    "    print(\"📊 Visualizing Embedding Space...\")\n",
    "    \n",
    "    # Get all embeddings\n",
    "    collection = get_chroma_collection()\n",
    "    embeddings = collection.get(include=[\"embeddings\"])[\"embeddings\"]\n",
    "    \n",
    "    # Reduce dimensions\n",
    "    pca = PCA(n_components=2)\n",
    "    reduced = pca.fit_transform(embeddings)\n",
    "    \n",
    "    # Create plot\n",
    "    plt.figure(figsize=(10, 6))\n",
    "    types = [e.type for e in experts]\n",
    "    domains = [e.expertise[0] for e in experts]\n",
    "    \n",
    "    for t in [\"AI\", \"Human\"]:\n",
    "        idx = [i for i, x in enumerate(types) if x == t]\n",
    "        plt.scatter(reduced[idx, 0], reduced[idx, 1], label=t)\n",
    "    \n",
    "    plt.title(\"Expert Embeddings Space\")\n",
    "    plt.xlabel(\"PCA 1\")\n",
    "    plt.ylabel(\"PCA 2\")\n",
    "    plt.legend()\n",
    "    plt.show()\n",
    "\n",
    "plot_embeddings()"
   ]
  },
  {
   "cell_type": "code",
   "execution_count": 5,
   "metadata": {},
   "outputs": [
    {
     "name": "stdout",
     "output_type": "stream",
     "text": [
      "🧪 Running Evaluation...\n",
      "\n",
      "📈 Evaluation Results:\n",
      "Precision@3: 0.00%\n",
      "Mean Reciprocal Rank: 0.00\n",
      "NDCG@3: 0.79\n"
     ]
    },
    {
     "data": {
      "text/markdown": [
       "📄 Report generated: `results/report_20250521_1649.md`"
      ],
      "text/plain": [
       "<IPython.core.display.Markdown object>"
      ]
     },
     "metadata": {},
     "output_type": "display_data"
    }
   ],
   "source": [
    "# Cell 5: Evaluation (fixed)\n",
    "from evaluation.evaluate import evaluate_all\n",
    "from evaluation.report_generator import generate_report\n",
    "from src.models import ProjectBrief\n",
    "\n",
    "def run_evaluation():\n",
    "    print(\"🧪 Running Evaluation...\")\n",
    "    with open(\"data/test_cases.json\") as f:\n",
    "        test_data = json.load(f)\n",
    "        test_cases = test_data[\"test_cases\"]\n",
    "    \n",
    "    metrics = evaluate_all(test_cases, matcher)\n",
    "    \n",
    "    print(\"\\n📈 Evaluation Results:\")\n",
    "    print(f\"Precision@3: {metrics['precision@k']:.2%}\")\n",
    "    print(f\"Mean Reciprocal Rank: {metrics['mrr']:.2f}\") \n",
    "    print(f\"NDCG@3: {metrics['ndcg']:.2f}\")\n",
    "    \n",
    "    report_path = generate_report(metrics, [])\n",
    "    display(Markdown(f\"📄 Report generated: `{report_path}`\"))\n",
    "\n",
    "run_evaluation()"
   ]
  },
  {
   "cell_type": "code",
   "execution_count": null,
   "metadata": {},
   "outputs": [],
   "source": []
  },
  {
   "cell_type": "code",
   "execution_count": null,
   "metadata": {},
   "outputs": [],
   "source": []
  }
 ],
 "metadata": {
  "kernelspec": {
   "display_name": "Python 3",
   "language": "python",
   "name": "python3"
  },
  "language_info": {
   "codemirror_mode": {
    "name": "ipython",
    "version": 3
   },
   "file_extension": ".py",
   "mimetype": "text/x-python",
   "name": "python",
   "nbconvert_exporter": "python",
   "pygments_lexer": "ipython3",
   "version": "3.13.1"
  }
 },
 "nbformat": 4,
 "nbformat_minor": 2
}
